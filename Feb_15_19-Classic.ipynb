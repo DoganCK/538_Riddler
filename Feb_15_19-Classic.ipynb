{
 "cells": [
  {
   "cell_type": "markdown",
   "metadata": {},
   "source": [
    "# Riddler Classic\n",
    "https://fivethirtyeight.com/features/come-on-down-and-escape-the-maze/\n",
    "\n",
    "From Josh Berry, come on down!\n",
    "\n",
    "You’re playing a “Price Is Right” game called Cover Up, which has contestants try to guess all five digits of the price of a brand new car. You have two numbers to choose from for the first digit, three numbers to choose from for the second digit, and so on, ending with six options for the fifth and final digit. You’re not winning any $100,000 cars in this game.\n",
    "\n",
    "First, you lock in a guess at the entire price of the car. If you get at least one digit correct on the first guess, the correct digit(s) are highlighted and you get to replace incorrect digits on a second guess. This continues on subsequent guesses until the price is guessed correctly. But if none of the new numbers you swapped in are correct, you lose. A contestant could conceivably win the car on the first guess or with five guesses, getting one additional correct digit highlighted on each guess.\n",
    "\n",
    "First question: If you’re guessing entirely by chance, what’s the likelihood of winning the car?\n",
    "\n",
    "Second question: Suppose you know a little bit about cars. Specifically, you are 100 percent certain about the digit in the ten-thousands place, but have to guess the remaining four digits by chance. What’s the best strategy, and what’s the likelihood of winning the car now?"
   ]
  },
  {
   "cell_type": "code",
   "execution_count": 1,
   "metadata": {},
   "outputs": [],
   "source": [
    "import numpy as np\n",
    "from copy import deepcopy"
   ]
  },
  {
   "cell_type": "code",
   "execution_count": 2,
   "metadata": {},
   "outputs": [],
   "source": [
    "#Let's say the following are the potential candidates for the digits\n",
    "#Note: Starting the arrays from 0 makes the subsequent code cleaner, WLOG.\n",
    "digits = [[1, 2],\n",
    "          [1, 2, 3],\n",
    "          [1, 2, 3, 4],\n",
    "          [1, 2, 3, 4, 5],\n",
    "          [1, 2, 3, 4, 5, 6]\n",
    "]\n",
    "\n",
    "#Generate a random value for the car\n",
    "def gen_value(digits=digits):\n",
    "    return [int(np.random.choice(digits[x])) for x in range(len(digits))]\n",
    "\n",
    "\n",
    "def game_round(real_price,guessed_price, d, prev_success=0, cheat = 0):\n",
    "\n",
    "    current_success = sum([guessed_price[i] == real_price[i] for i in range(len(guessed_price))])\n",
    "    \n",
    "    if guessed_price == real_price:\n",
    "        return 1\n",
    "    \n",
    "    elif current_success <= prev_success:\n",
    "        return 0\n",
    "    \n",
    "    #Update the digit pool to choose from\n",
    "    for idx, digit in enumerate(real_price):\n",
    "        \n",
    "        if len(d[idx]) != 1:\n",
    "            #Guessed correctly -> assign the digit\n",
    "            if guessed_price[idx] == digit:\n",
    "                d[idx] = [digit]\n",
    "            #Guessed incorrectly -> remove the digit\n",
    "            else:\n",
    "                d[idx].remove(guessed_price[idx])\n",
    "    if cheat == 1 and d[0] != 2:\n",
    "        d[0] = [2]\n",
    "    new_guessed_price = gen_value(d)#Update the guessed price\n",
    "    return game_round(real_price, new_guessed_price, d, current_success)\n",
    "\n",
    "\n",
    "def game(digits,n=10000,cheat=0):\n",
    "    success_count = 0\n",
    "    for i in range(n):\n",
    "        real_price = gen_value(digits) #The value of the car we're trying to guess\n",
    "        d = deepcopy(digits)\n",
    "        if cheat == 1:\n",
    "            d[0] = [1]\n",
    "        else:\n",
    "            d[0] = [2]\n",
    "        guessed_price = gen_value(digits) #initial guess\n",
    "        \n",
    "        success_count += game_round(real_price,guessed_price, d,cheat=cheat) #number of succeses\n",
    "\n",
    "    return success_count/n"
   ]
  },
  {
   "cell_type": "markdown",
   "metadata": {},
   "source": [
    "# Rigorous calculation\n",
    "\n",
    "Start with a simpler example:\n",
    "you could've found 0th or first or both:\n",
    "* if we only correctly guess the 0th: 1/2 x 2/3 x 1/2 = 1/6\n",
    "* if only the first, but not the 0th = 1/3 x 1/2 x 1 = 1/6\n",
    "* if we correctly guess both = 1/6  \n",
    "Sums up to 1/2"
   ]
  },
  {
   "cell_type": "code",
   "execution_count": 3,
   "metadata": {},
   "outputs": [
    {
     "data": {
      "text/plain": [
       "0.32083333333333325"
      ]
     },
     "execution_count": 3,
     "metadata": {},
     "output_type": "execute_result"
    }
   ],
   "source": [
    "\n",
    "def bin_comb(k):\n",
    "    end = 1<<k   #this is the integer with binary developpement 1 followed by k zeros\n",
    "    result = []\n",
    "    for j in range(end): # iterate until end means getting all k - 0-1 combinations\n",
    "        comb = bin(j)[2:].zfill(k)\n",
    "        result.append([int(x) for x in comb])\n",
    "    return result\n",
    "\n",
    "def guess(l=[2,3]):\n",
    "    combs = bin_comb(len(l)) #for len=2: [[0,0],[1,0],[0,1],[1,1]]\n",
    "    pr=0\n",
    "    #Remove the list with all zeros from combs\n",
    "    combs = combs[1:]\n",
    "    for idn, i in enumerate(l):\n",
    "        if i == 1:\n",
    "            combs = [x for x in combs if x[idn] != 0]\n",
    "            \n",
    "    for idy, comb in enumerate(combs):\n",
    "        internal_p = 1\n",
    "        \n",
    "        new_l = []\n",
    "        for idx, dg in enumerate(comb):\n",
    "            \n",
    "            if dg == 0:\n",
    "                internal_p *= (l[idx]-1)/(l[idx])\n",
    "                new_l.append(l[idx]-1)\n",
    "            else:\n",
    "                internal_p *= 1/l[idx]\n",
    "        if new_l != []:\n",
    "            internal_p *= guess(new_l)\n",
    "\n",
    "        pr += internal_p\n",
    "    return pr\n",
    "                \n",
    "guess([2,3,4,5,6])"
   ]
  },
  {
   "cell_type": "markdown",
   "metadata": {},
   "source": [
    "# We Know the First Digit\n",
    "As for the case where we know the first digit, I cannot think of any better strategy than saying it in the first round because we don't gain anything from not saying it. (If we got another round after a failure, then we could've used the the known first digit as leverage, and not say it immediately, but that's not the case.)\n",
    "\n",
    "What we gain by saying it in the first round is that we learn something about the other digits for free. Even if we don't guess any of the other digits correctly, we get to eliminate potential values from each digit. If we don't say the first digit right-away we risk losing in the first round.\n",
    "\n",
    "Suppose we dont say the first digit right away:\n",
    "* The probability of failing is 2/3 x 3/4 x 4/5 x 5/6 = 1/3\n",
    "\n",
    "An alternative to try is this:\n",
    "save the first digit for:\n",
    "* when you got all the other digits\n",
    "* for the fifth round\n",
    "\n",
    "[If the alternative is true, then you should mot say any digit that you've secured until you have to. But then it's going to be like trying to guess it at once]\n",
    "\n",
    "### On the other hand\n",
    "There are some cases where holding onto the first digit might be helpful. For instance if we guess all the fifth digit correctly in the first round then there is an 80% chance we will fail in the second round trying to guess the fifth one. If we held onto the first digit and only said it in the second round we'd get a free pass on the second round with 20% chance to guess correctly besides we would get to guess another time in the third round with 25% chance of winning.\n",
    "\n",
    "I'm too tired to calculate it rigorously right now but I tweaked the simulation code so that we can simulate not giving the right answer for the first digit in the first round (the \"cheat\" option). And it doesn't yield a significant difference. So it seems like the best strategy is just to say te first digit outright, though I feel like I'm mistaken.\n"
   ]
  },
  {
   "cell_type": "code",
   "execution_count": 4,
   "metadata": {},
   "outputs": [
    {
     "data": {
      "text/plain": [
       "0.321993"
      ]
     },
     "execution_count": 4,
     "metadata": {},
     "output_type": "execute_result"
    }
   ],
   "source": [
    "#Let's suppose that we know that the price of the car\n",
    "#is in the 20,000's instead of 10's.\n",
    "digits2 = [[2],\n",
    "          [0, 1, 2],    \n",
    "          [0, 1, 2, 3],\n",
    "          [0, 1, 2, 3, 4],\n",
    "          [0, 1, 2, 3, 4, 5]\n",
    "]\n",
    "game(digits2, n=1000000, cheat=0) #Cheat option disabled"
   ]
  },
  {
   "cell_type": "code",
   "execution_count": 5,
   "metadata": {},
   "outputs": [
    {
     "data": {
      "text/plain": [
       "0.322817"
      ]
     },
     "execution_count": 5,
     "metadata": {},
     "output_type": "execute_result"
    }
   ],
   "source": [
    "#Cheat option enabled\n",
    "game(digits2, n=1000000, cheat=1)"
   ]
  }
 ],
 "metadata": {
  "kernelspec": {
   "display_name": "Python 3",
   "language": "python",
   "name": "python3"
  },
  "language_info": {
   "codemirror_mode": {
    "name": "ipython",
    "version": 3
   },
   "file_extension": ".py",
   "mimetype": "text/x-python",
   "name": "python",
   "nbconvert_exporter": "python",
   "pygments_lexer": "ipython3",
   "version": "3.7.0"
  }
 },
 "nbformat": 4,
 "nbformat_minor": 2
}
