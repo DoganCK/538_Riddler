{
 "cells": [
  {
   "cell_type": "markdown",
   "metadata": {},
   "source": [
    "# What are your chances of winning the US Open?\n",
    "Suppose you’re playing a match at the U.S. Open, and you’re slightly better than the competition: your chances of winning any given point are exactly 55 percent. (Yes, most players are more likely to win the points they serve, but we’re simplifying things a bit.) What are your chances of winning a three-set match, as played by the women, or a five-set match, as played by the men? And what are your chances of winning the whole tournament (seven consecutive matches)?\n",
    "\n",
    "https://fivethirtyeight.com/features/what-are-your-chances-of-winning-the-u-s-open/"
   ]
  },
  {
   "cell_type": "markdown",
   "metadata": {},
   "source": [
    "## 1. Game\n",
    "### a. Normal\n",
    "Need to have at least 4 points and be at least 2 points ahead.\n",
    "### b. Tie-breaker (for a set)\n",
    "If the score for the set is 6-6, first to reach 7 points with 2 points surplus wins\n",
    "\n",
    "## 2. Set\n",
    "### a. Normal\n",
    "Need to win at least 6 games with a difference of 2\n",
    "### b. Tie-breaker\n",
    "If it gets to 6-6, 1.b applies\n",
    "\n",
    "## 3. Match\n",
    "For women 2 sets win the game, for men, 3."
   ]
  },
  {
   "cell_type": "markdown",
   "metadata": {},
   "source": [
    "## 1a. Normal Game\n",
    "I will start with the odds of winning a normal game, e.g. the first or second game of a match.\n",
    "\n",
    "This problem has to do with the conjunction of the following two:\n",
    "- The winner has at least 4 points (eg. 15, 30, 40, win)\n",
    "- The winner scores at least 2 more points than the loser.\n",
    "\n",
    "### Initial thoughts:\n",
    "- This is kind of a random walk problem with an added condition of at least 4 successes\n",
    "- Once this is solved 1b is easy as it's the same problem with different arguments"
   ]
  },
  {
   "cell_type": "markdown",
   "metadata": {},
   "source": [
    "# Mathematical Solution\n",
    "## Ways of winning a normal game:\n",
    "4-0: $(0.55)^4$\n",
    "\n",
    "4-1: $4(0.45)^1(0.55)^4$\n",
    "\n",
    "4-2: $10(0.45)^2(0.55)^4$\n",
    "\n",
    "3-3: $20(0.45)^3(0.55)^3$ times the probability of coming out ahead by 2 points.\n",
    "\n",
    "After 3-3, we start a game of random walk which ends with either player reaching 2 points.\n",
    "\n",
    "$$0.55^2 + 0.55^2 (2 \\times 0.45 \\times 0.55) + 0.55^2 (2 \\times 0.45 \\times 0.55)^2 + \\dots$$\n",
    "\n",
    "$$= \\sum_{i = 0}^\\infty 0.55^2  (2 \\times 0.45 \\times 0.55)^i$$\n",
    "\n",
    "$$= \\frac{0.55^2}{1 - 2 \\times 0.45 \\times 0.55}$$\n",
    "\n",
    "$$\\approx 0.6$$"
   ]
  },
  {
   "cell_type": "code",
   "execution_count": 8,
   "metadata": {},
   "outputs": [
    {
     "name": "stdout",
     "output_type": "stream",
     "text": [
      "0.09150625000000003 0.16471125000000006 0.18530015625000007 0.18163084622524764\n",
      "Probability of winning a normal game: 0.6231485024752478\n"
     ]
    }
   ],
   "source": [
    "rand_walk_to_get_ahead_by_two = (.55**2)/(1-2*.45*.55)\n",
    "fourzero = (0.55)**4\n",
    "fourone = 4*(.45)*(.55)**4\n",
    "fourtwo = 10*((.45)**2)*((.55)**4)\n",
    "threethree = 20*(.45)**3*(.55)**3*rand_walk_to_get_ahead_by_two\n",
    "print(fourzero, fourone, fourtwo, threethree)\n",
    "win_game_prob = fourzero + fourone + fourtwo + threethree\n",
    "print('Probability of winning a normal game: '+str(win_game_prob))"
   ]
  },
  {
   "cell_type": "markdown",
   "metadata": {},
   "source": [
    "## What about a tie-breaker game?\n",
    "\n",
    "7-0: $(0.55)^7$\n",
    "\n",
    "7-1: $7(0.55)^7(0.45)$\n",
    "\n",
    "7-2: ${8 \\choose 2}(0.55)^7(0.45)^2$\n",
    "\n",
    "7-3: ${9 \\choose 3}(0.55)^7(0.45)^3$\n",
    "\n",
    "7-4: ${10 \\choose 4}(0.55)^7(0.45)^4$\n",
    "\n",
    "7-5: ${11 \\choose 5}(0.55)^7(0.45)^5$\n",
    "\n",
    "6-6: ${12 \\choose 6}(0.55)^6(0.45)^6 \\times 0.6$\n"
   ]
  },
  {
   "cell_type": "code",
   "execution_count": 9,
   "metadata": {},
   "outputs": [
    {
     "name": "stdout",
     "output_type": "stream",
     "text": [
      "Probability of winning a tie-breaker: 0.6541507671793694\n"
     ]
    }
   ],
   "source": [
    "sevenzero = ((.55)**7)\n",
    "sevenone = 7*((.45)**1)*((.55)**7)\n",
    "seventwo = 28*((.45)**2)*((.55)**7)\n",
    "seventhree = 84*((.45)**3)*((.55)**7)\n",
    "sevenfour = 210*((.45)**4)*((.55)**7)\n",
    "sevenfive = 462*((.45)**5)*((.55)**7)\n",
    "sixsix = 924*((.45)**6)*((.55)**6)*rand_walk_to_get_ahead_by_two\n",
    "win_tie_break_prob = sevenzero + sevenone + seventwo + seventhree + sevenfour + sevenfive + sixsix\n",
    "\n",
    "print('Probability of winning a tie-breaker: '+str(win_tie_break_prob))"
   ]
  },
  {
   "cell_type": "markdown",
   "metadata": {},
   "source": [
    "## Set\n",
    "\n",
    "(6-0) through (6-4) are similar.\n",
    "\n",
    "7-5: This requires that the score be 5-5 at some point, and the better player win the next two games.\n",
    "\n",
    "6-6: This requires that the score be 5-5 at some point. times winning the tie-breaker."
   ]
  },
  {
   "cell_type": "code",
   "execution_count": 10,
   "metadata": {},
   "outputs": [
    {
     "name": "stdout",
     "output_type": "stream",
     "text": [
      "Probability of winning a set: 0.8150419926646904\n"
     ]
    }
   ],
   "source": [
    "sixzero = win_game_prob**6\n",
    "sixone = 6*win_game_prob**6*(1-win_game_prob)\n",
    "sixtwo = 21*win_game_prob**6*(1-win_game_prob)**2\n",
    "sixthree = 56*win_game_prob**6*(1-win_game_prob)**3                    \n",
    "sixfour = 126*win_game_prob**6*(1-win_game_prob)**4\n",
    "sevenfive = 252*win_game_prob**7*(1-win_game_prob)**5\n",
    "sixsix = 504*win_game_prob**6*(1-win_game_prob)**6*win_tie_break_prob\n",
    "win_set_prob = sixzero + sixone + sixtwo + sixthree + sixfour + sevenfive + sixsix\n",
    "print('Probability of winning a set: '+str(win_set_prob))"
   ]
  },
  {
   "cell_type": "markdown",
   "metadata": {},
   "source": [
    "## Match\n",
    "\n",
    "Probability of winning 2 or 3 sets for women and men, respectively."
   ]
  },
  {
   "cell_type": "code",
   "execution_count": 11,
   "metadata": {},
   "outputs": [
    {
     "name": "stdout",
     "output_type": "stream",
     "text": [
      "Probability of winning a match (women): 0.9100262353311684\n",
      "Probability of winning a match (men): 0.9529824438604558\n"
     ]
    }
   ],
   "source": [
    "win_match_prob_women = win_set_prob**2 + 2*win_set_prob**2*(1-win_set_prob)\n",
    "win_match_prob_men = win_set_prob**3 + 3*win_set_prob**3*(1-win_set_prob) + 6*win_set_prob**3*(1-win_set_prob)**2\n",
    "print('Probability of winning a match (women): '+str(win_match_prob_women))\n",
    "print('Probability of winning a match (men): '+str(win_match_prob_men))"
   ]
  },
  {
   "cell_type": "markdown",
   "metadata": {},
   "source": [
    "## Tournament"
   ]
  },
  {
   "cell_type": "code",
   "execution_count": 12,
   "metadata": {},
   "outputs": [
    {
     "name": "stdout",
     "output_type": "stream",
     "text": [
      "Probability of winning a tournament (women): 0.5168653160428079\n",
      "Probability of winning a tournament (men): 0.7138291847643412\n"
     ]
    }
   ],
   "source": [
    "womens = win_match_prob_women**7\n",
    "mens = win_match_prob_men**7\n",
    "print('Probability of winning a tournament (women): '+str(womens))\n",
    "print('Probability of winning a tournament (men): '+str(mens))"
   ]
  },
  {
   "cell_type": "markdown",
   "metadata": {},
   "source": [
    "# Simulation"
   ]
  },
  {
   "cell_type": "code",
   "execution_count": 1,
   "metadata": {},
   "outputs": [],
   "source": [
    "import numpy as np\n",
    "\n",
    "def Game(tie_break=False):\n",
    "    #Simulates a single game. Returns 1 if the better player wins, 0, otherwise.\n",
    "    apoint, bpoint = 0, 0\n",
    "    min_required_points = 4\n",
    "    \n",
    "    #Is it a tie-breaker game\n",
    "    if tie_break == True:\n",
    "        min_required_points = 7\n",
    "        \n",
    "    while abs(apoint - bpoint) < 2 or max(apoint,bpoint) < min_required_points:\n",
    "        point = np.random.choice(2,1, p=[0.45,0.55])\n",
    "        if point == 1:\n",
    "            apoint += 1\n",
    "        else:\n",
    "            bpoint += 1\n",
    "    #print('g: '+str(apoint)+' ' + str(bpoint))\n",
    "    if apoint > bpoint:\n",
    "        return 1\n",
    "    return 0"
   ]
  },
  {
   "cell_type": "code",
   "execution_count": 2,
   "metadata": {},
   "outputs": [],
   "source": [
    "def Set():\n",
    "    #Simulates a single set. Returns 1 if the better player wins, 0, otherwise.\n",
    "    agame, bgame = 0, 0\n",
    "    while abs(agame - bgame) < 2 or max(agame, bgame) < 6:\n",
    "        game_result = Game()\n",
    "        if game_result == 1:\n",
    "            agame += 1\n",
    "        else:\n",
    "            bgame += 1\n",
    "        \n",
    "        #Check to see if a tie-breaker game is needed\n",
    "        if agame == 6 and bgame == 6:\n",
    "            game_result = Game(tie_break = True)\n",
    "            if game_result == 1:\n",
    "                agame += 1\n",
    "            else:\n",
    "                bgame += 1\n",
    "            break\n",
    "            \n",
    "    #print('s: '+str(agame)+' ' + str(bgame))\n",
    "    if agame > bgame:\n",
    "        return 1\n",
    "    return 0\n",
    "            "
   ]
  },
  {
   "cell_type": "code",
   "execution_count": 3,
   "metadata": {},
   "outputs": [],
   "source": [
    "def Match(male=False):\n",
    "    #Simulates a single match. Returns 1 if the better player wins, 0, otherwise.\n",
    "    aset, bset = 0, 0\n",
    "    required_set_count = 2\n",
    "    \n",
    "    if male == True:\n",
    "        required_set_count = 3\n",
    "        \n",
    "    while aset < required_set_count and bset < required_set_count:\n",
    "        set_result = Set()\n",
    "        if set_result == 1:\n",
    "            aset += 1\n",
    "        else:\n",
    "            bset += 1\n",
    "    #print('m: '+str(aset)+' ' + str(bset))\n",
    "    if aset > bset:\n",
    "        return 1\n",
    "    return 0"
   ]
  },
  {
   "cell_type": "code",
   "execution_count": 4,
   "metadata": {},
   "outputs": [],
   "source": [
    "def MatchTest(ran,male=False):\n",
    "    #Runs function 'Match' 'ran' times and returns a's win ratio\n",
    "    awin = 0\n",
    "    for i in range(ran):\n",
    "        awin += Match(male)\n",
    "    return awin/ran"
   ]
  },
  {
   "cell_type": "code",
   "execution_count": 7,
   "metadata": {},
   "outputs": [
    {
     "data": {
      "text/plain": [
       "0.9092"
      ]
     },
     "execution_count": 7,
     "metadata": {},
     "output_type": "execute_result"
    }
   ],
   "source": [
    "#Simulation offemale matches\n",
    "MatchTest(10000)"
   ]
  },
  {
   "cell_type": "code",
   "execution_count": 13,
   "metadata": {},
   "outputs": [
    {
     "data": {
      "text/plain": [
       "0.9502"
      ]
     },
     "execution_count": 13,
     "metadata": {},
     "output_type": "execute_result"
    }
   ],
   "source": [
    "#Simulation of male matches\n",
    "MatchTest(10000, male=True)"
   ]
  },
  {
   "cell_type": "markdown",
   "metadata": {},
   "source": [
    "# Remarks\n",
    "* Simulation seems to confirm the mathematical reuslts, which is good.\n",
    "* I'm pretty confident that I haven't missed or overcounted the ways in which a game or set could be won, but you never know!\n",
    "* I'm curious to see if there are more elegant solutions.\n",
    "* I could have made the combinatorial task a little less tedious by writing a function in python, so there would be less clutter. But I preferred to go manual on my first try to be able to see more clearly what gets counted and what doesn't."
   ]
  },
  {
   "cell_type": "markdown",
   "metadata": {},
   "source": [
    "\n",
    "# Useful info:\n",
    "\n",
    "* Info on random walks: https://ocw.mit.edu/courses/electrical-engineering-and-computer-science/6-042j-mathematics-for-computer-science-fall-2010/readings/MIT6_042JF10_chap20.pdf\n",
    "\n",
    "* How to count the ways in which a game could turn out given a specific score: https://en.wikipedia.org/wiki/Stars_and_bars_(combinatorics)"
   ]
  }
 ],
 "metadata": {
  "kernelspec": {
   "display_name": "Python 3",
   "language": "python",
   "name": "python3"
  },
  "language_info": {
   "codemirror_mode": {
    "name": "ipython",
    "version": 3
   },
   "file_extension": ".py",
   "mimetype": "text/x-python",
   "name": "python",
   "nbconvert_exporter": "python",
   "pygments_lexer": "ipython3",
   "version": "3.7.4"
  }
 },
 "nbformat": 4,
 "nbformat_minor": 2
}
